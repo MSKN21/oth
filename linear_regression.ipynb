{
 "cells": [
  {
   "cell_type": "code",
   "execution_count": 2,
   "id": "9b4b8296",
   "metadata": {},
   "outputs": [],
   "source": [
    "import pandas as pd\n",
    "import numpy as np"
   ]
  },
  {
   "cell_type": "code",
   "execution_count": 3,
   "id": "4fb2ce6e",
   "metadata": {},
   "outputs": [
    {
     "data": {
      "text/html": [
       "<div>\n",
       "<style scoped>\n",
       "    .dataframe tbody tr th:only-of-type {\n",
       "        vertical-align: middle;\n",
       "    }\n",
       "\n",
       "    .dataframe tbody tr th {\n",
       "        vertical-align: top;\n",
       "    }\n",
       "\n",
       "    .dataframe thead th {\n",
       "        text-align: right;\n",
       "    }\n",
       "</style>\n",
       "<table border=\"1\" class=\"dataframe\">\n",
       "  <thead>\n",
       "    <tr style=\"text-align: right;\">\n",
       "      <th></th>\n",
       "      <th>xlabel</th>\n",
       "      <th>ylabel</th>\n",
       "    </tr>\n",
       "  </thead>\n",
       "  <tbody>\n",
       "    <tr>\n",
       "      <th>0</th>\n",
       "      <td>6.1101</td>\n",
       "      <td>17.59200</td>\n",
       "    </tr>\n",
       "    <tr>\n",
       "      <th>1</th>\n",
       "      <td>5.5277</td>\n",
       "      <td>9.13020</td>\n",
       "    </tr>\n",
       "    <tr>\n",
       "      <th>2</th>\n",
       "      <td>8.5186</td>\n",
       "      <td>13.66200</td>\n",
       "    </tr>\n",
       "    <tr>\n",
       "      <th>3</th>\n",
       "      <td>7.0032</td>\n",
       "      <td>11.85400</td>\n",
       "    </tr>\n",
       "    <tr>\n",
       "      <th>4</th>\n",
       "      <td>5.8598</td>\n",
       "      <td>6.82330</td>\n",
       "    </tr>\n",
       "    <tr>\n",
       "      <th>...</th>\n",
       "      <td>...</td>\n",
       "      <td>...</td>\n",
       "    </tr>\n",
       "    <tr>\n",
       "      <th>92</th>\n",
       "      <td>5.8707</td>\n",
       "      <td>7.20290</td>\n",
       "    </tr>\n",
       "    <tr>\n",
       "      <th>93</th>\n",
       "      <td>5.3054</td>\n",
       "      <td>1.98690</td>\n",
       "    </tr>\n",
       "    <tr>\n",
       "      <th>94</th>\n",
       "      <td>8.2934</td>\n",
       "      <td>0.14454</td>\n",
       "    </tr>\n",
       "    <tr>\n",
       "      <th>95</th>\n",
       "      <td>13.3940</td>\n",
       "      <td>9.05510</td>\n",
       "    </tr>\n",
       "    <tr>\n",
       "      <th>96</th>\n",
       "      <td>5.4369</td>\n",
       "      <td>0.61705</td>\n",
       "    </tr>\n",
       "  </tbody>\n",
       "</table>\n",
       "<p>97 rows × 2 columns</p>\n",
       "</div>"
      ],
      "text/plain": [
       "     xlabel    ylabel\n",
       "0    6.1101  17.59200\n",
       "1    5.5277   9.13020\n",
       "2    8.5186  13.66200\n",
       "3    7.0032  11.85400\n",
       "4    5.8598   6.82330\n",
       "..      ...       ...\n",
       "92   5.8707   7.20290\n",
       "93   5.3054   1.98690\n",
       "94   8.2934   0.14454\n",
       "95  13.3940   9.05510\n",
       "96   5.4369   0.61705\n",
       "\n",
       "[97 rows x 2 columns]"
      ]
     },
     "execution_count": 3,
     "metadata": {},
     "output_type": "execute_result"
    }
   ],
   "source": [
    "df=pd.read_csv('/home/saikrupananda/Downloads/Food-Truck-LineReg.csv')\n",
    "df"
   ]
  },
  {
   "cell_type": "code",
   "execution_count": 3,
   "id": "65f31d82",
   "metadata": {},
   "outputs": [],
   "source": [
    "import matplotlib.pyplot as plt"
   ]
  },
  {
   "cell_type": "code",
   "execution_count": 6,
   "id": "5da51019",
   "metadata": {},
   "outputs": [
    {
     "data": {
      "text/plain": [
       "<AxesSubplot:xlabel='xlabel'>"
      ]
     },
     "execution_count": 6,
     "metadata": {},
     "output_type": "execute_result"
    },
    {
     "data": {
      "image/png": "[encoded data removed]",
      "text/plain": [
       "<Figure size 432x288 with 1 Axes>"
      ]
     },
     "metadata": {
      "needs_background": "light"
     },
     "output_type": "display_data"
    }
   ],
   "source": [
    "df.plot(x='xlabel',y='ylabel',style='o')"
   ]
  },
  {
   "cell_type": "code",
   "execution_count": 11,
   "id": "76bbcd39",
   "metadata": {},
   "outputs": [
    {
     "data": {
      "text/plain": [
       "(8.159800000000002, 5.83913505154639)"
      ]
     },
     "execution_count": 11,
     "metadata": {},
     "output_type": "execute_result"
    }
   ],
   "source": [
    "x_mean=df['xlabel'].mean()\n",
    "y_mean=df['ylabel'].mean()\n",
    "x_mean,y_mean"
   ]
  },
  {
   "cell_type": "code",
   "execution_count": 14,
   "id": "9c46d3ea",
   "metadata": {},
   "outputs": [
    {
     "data": {
      "text/html": [
       "<div>\n",
       "<style scoped>\n",
       "    .dataframe tbody tr th:only-of-type {\n",
       "        vertical-align: middle;\n",
       "    }\n",
       "\n",
       "    .dataframe tbody tr th {\n",
       "        vertical-align: top;\n",
       "    }\n",
       "\n",
       "    .dataframe thead th {\n",
       "        text-align: right;\n",
       "    }\n",
       "</style>\n",
       "<table border=\"1\" class=\"dataframe\">\n",
       "  <thead>\n",
       "    <tr style=\"text-align: right;\">\n",
       "      <th></th>\n",
       "      <th>xlabel</th>\n",
       "      <th>ylabel</th>\n",
       "      <th>x</th>\n",
       "      <th>y</th>\n",
       "      <th>x*y</th>\n",
       "      <th>x^2</th>\n",
       "      <th>y^2</th>\n",
       "    </tr>\n",
       "  </thead>\n",
       "  <tbody>\n",
       "    <tr>\n",
       "      <th>0</th>\n",
       "      <td>6.1101</td>\n",
       "      <td>17.59200</td>\n",
       "      <td>-2.0497</td>\n",
       "      <td>11.752865</td>\n",
       "      <td>-24.089847</td>\n",
       "      <td>4.201270</td>\n",
       "      <td>138.129834</td>\n",
       "    </tr>\n",
       "    <tr>\n",
       "      <th>1</th>\n",
       "      <td>5.5277</td>\n",
       "      <td>9.13020</td>\n",
       "      <td>-2.6321</td>\n",
       "      <td>3.291065</td>\n",
       "      <td>-8.662412</td>\n",
       "      <td>6.927950</td>\n",
       "      <td>10.831108</td>\n",
       "    </tr>\n",
       "    <tr>\n",
       "      <th>2</th>\n",
       "      <td>8.5186</td>\n",
       "      <td>13.66200</td>\n",
       "      <td>0.3588</td>\n",
       "      <td>7.822865</td>\n",
       "      <td>2.806844</td>\n",
       "      <td>0.128737</td>\n",
       "      <td>61.197216</td>\n",
       "    </tr>\n",
       "    <tr>\n",
       "      <th>3</th>\n",
       "      <td>7.0032</td>\n",
       "      <td>11.85400</td>\n",
       "      <td>-1.1566</td>\n",
       "      <td>6.014865</td>\n",
       "      <td>-6.956793</td>\n",
       "      <td>1.337724</td>\n",
       "      <td>36.178600</td>\n",
       "    </tr>\n",
       "    <tr>\n",
       "      <th>4</th>\n",
       "      <td>5.8598</td>\n",
       "      <td>6.82330</td>\n",
       "      <td>-2.3000</td>\n",
       "      <td>0.984165</td>\n",
       "      <td>-2.263579</td>\n",
       "      <td>5.290000</td>\n",
       "      <td>0.968581</td>\n",
       "    </tr>\n",
       "    <tr>\n",
       "      <th>...</th>\n",
       "      <td>...</td>\n",
       "      <td>...</td>\n",
       "      <td>...</td>\n",
       "      <td>...</td>\n",
       "      <td>...</td>\n",
       "      <td>...</td>\n",
       "      <td>...</td>\n",
       "    </tr>\n",
       "    <tr>\n",
       "      <th>92</th>\n",
       "      <td>5.8707</td>\n",
       "      <td>7.20290</td>\n",
       "      <td>-2.2891</td>\n",
       "      <td>1.363765</td>\n",
       "      <td>-3.121794</td>\n",
       "      <td>5.239979</td>\n",
       "      <td>1.859855</td>\n",
       "    </tr>\n",
       "    <tr>\n",
       "      <th>93</th>\n",
       "      <td>5.3054</td>\n",
       "      <td>1.98690</td>\n",
       "      <td>-2.8544</td>\n",
       "      <td>-3.852235</td>\n",
       "      <td>10.995820</td>\n",
       "      <td>8.147599</td>\n",
       "      <td>14.839715</td>\n",
       "    </tr>\n",
       "    <tr>\n",
       "      <th>94</th>\n",
       "      <td>8.2934</td>\n",
       "      <td>0.14454</td>\n",
       "      <td>0.1336</td>\n",
       "      <td>-5.694595</td>\n",
       "      <td>-0.760798</td>\n",
       "      <td>0.017849</td>\n",
       "      <td>32.428413</td>\n",
       "    </tr>\n",
       "    <tr>\n",
       "      <th>95</th>\n",
       "      <td>13.3940</td>\n",
       "      <td>9.05510</td>\n",
       "      <td>5.2342</td>\n",
       "      <td>3.215965</td>\n",
       "      <td>16.833004</td>\n",
       "      <td>27.396850</td>\n",
       "      <td>10.342431</td>\n",
       "    </tr>\n",
       "    <tr>\n",
       "      <th>96</th>\n",
       "      <td>5.4369</td>\n",
       "      <td>0.61705</td>\n",
       "      <td>-2.7229</td>\n",
       "      <td>-5.222085</td>\n",
       "      <td>14.219215</td>\n",
       "      <td>7.414184</td>\n",
       "      <td>27.270172</td>\n",
       "    </tr>\n",
       "  </tbody>\n",
       "</table>\n",
       "<p>97 rows × 7 columns</p>\n",
       "</div>"
      ],
      "text/plain": [
       "     xlabel    ylabel       x          y        x*y        x^2         y^2\n",
       "0    6.1101  17.59200 -2.0497  11.752865 -24.089847   4.201270  138.129834\n",
       "1    5.5277   9.13020 -2.6321   3.291065  -8.662412   6.927950   10.831108\n",
       "2    8.5186  13.66200  0.3588   7.822865   2.806844   0.128737   61.197216\n",
       "3    7.0032  11.85400 -1.1566   6.014865  -6.956793   1.337724   36.178600\n",
       "4    5.8598   6.82330 -2.3000   0.984165  -2.263579   5.290000    0.968581\n",
       "..      ...       ...     ...        ...        ...        ...         ...\n",
       "92   5.8707   7.20290 -2.2891   1.363765  -3.121794   5.239979    1.859855\n",
       "93   5.3054   1.98690 -2.8544  -3.852235  10.995820   8.147599   14.839715\n",
       "94   8.2934   0.14454  0.1336  -5.694595  -0.760798   0.017849   32.428413\n",
       "95  13.3940   9.05510  5.2342   3.215965  16.833004  27.396850   10.342431\n",
       "96   5.4369   0.61705 -2.7229  -5.222085  14.219215   7.414184   27.270172\n",
       "\n",
       "[97 rows x 7 columns]"
      ]
     },
     "execution_count": 14,
     "metadata": {},
     "output_type": "execute_result"
    }
   ],
   "source": [
    "df[\"x\"]=df[\"xlabel\"]-x_mean\n",
    "df[\"y\"]=df[\"ylabel\"]-y_mean\n",
    "df[\"x*y\"]=df[\"x\"]*df[\"y\"]\n",
    "df[\"x^2\"]=df[\"x\"]**2\n",
    "df[\"y^2\"]=df[\"y\"]**2\n",
    "df"
   ]
  },
  {
   "cell_type": "code",
   "execution_count": 17,
   "id": "9218a2ff",
   "metadata": {},
   "outputs": [],
   "source": [
    "sum_xy=df[\"x*y\"].sum()\n",
    "sum_x2=df[\"x^2\"].sum()\n",
    "sum_y2=df[\"y^2\"].sum()"
   ]
  },
  {
   "cell_type": "code",
   "execution_count": 18,
   "id": "7591c471",
   "metadata": {},
   "outputs": [
    {
     "data": {
      "text/plain": [
       "0.8378732325263409"
      ]
     },
     "execution_count": 18,
     "metadata": {},
     "output_type": "execute_result"
    }
   ],
   "source": [
    "correlation=sum_xy/(sum_x2*sum_y2)**0.5\n",
    "correlation"
   ]
  },
  {
   "cell_type": "code",
   "execution_count": 24,
   "id": "7e419aa5",
   "metadata": {},
   "outputs": [
    {
     "data": {
      "text/plain": [
       "(3.849883995922715, 5.48178525707763)"
      ]
     },
     "execution_count": 24,
     "metadata": {},
     "output_type": "execute_result"
    }
   ],
   "source": [
    "stad_x=np.std(df[\"x\"].tolist())\n",
    "stad_y=np.std(df[\"y\"].tolist())\n",
    "stad_x,stad_y"
   ]
  },
  {
   "cell_type": "code",
   "execution_count": 25,
   "id": "e8270e23",
   "metadata": {},
   "outputs": [
    {
     "data": {
      "text/plain": [
       "1.193033644189594"
      ]
     },
     "execution_count": 25,
     "metadata": {},
     "output_type": "execute_result"
    }
   ],
   "source": [
    "m=(correlation)*(stad_y/stad_x)\n",
    "m"
   ]
  },
  {
   "cell_type": "code",
   "execution_count": 27,
   "id": "ecb622f2",
   "metadata": {},
   "outputs": [
    {
     "data": {
      "text/plain": [
       "-3.8957808783118617"
      ]
     },
     "execution_count": 27,
     "metadata": {},
     "output_type": "execute_result"
    }
   ],
   "source": [
    "c=df[\"ylabel\"].mean()-m*df[\"xlabel\"].mean()\n",
    "c"
   ]
  },
  {
   "cell_type": "code",
   "execution_count": 28,
   "id": "28a0ce5f",
   "metadata": {},
   "outputs": [
    {
     "data": {
      "text/html": [
       "<div>\n",
       "<style scoped>\n",
       "    .dataframe tbody tr th:only-of-type {\n",
       "        vertical-align: middle;\n",
       "    }\n",
       "\n",
       "    .dataframe tbody tr th {\n",
       "        vertical-align: top;\n",
       "    }\n",
       "\n",
       "    .dataframe thead th {\n",
       "        text-align: right;\n",
       "    }\n",
       "</style>\n",
       "<table border=\"1\" class=\"dataframe\">\n",
       "  <thead>\n",
       "    <tr style=\"text-align: right;\">\n",
       "      <th></th>\n",
       "      <th>xlabel</th>\n",
       "      <th>ylabel</th>\n",
       "      <th>x</th>\n",
       "      <th>y</th>\n",
       "      <th>x*y</th>\n",
       "      <th>x^2</th>\n",
       "      <th>y^2</th>\n",
       "      <th>y_pred</th>\n",
       "    </tr>\n",
       "  </thead>\n",
       "  <tbody>\n",
       "    <tr>\n",
       "      <th>0</th>\n",
       "      <td>6.1101</td>\n",
       "      <td>17.59200</td>\n",
       "      <td>-2.0497</td>\n",
       "      <td>11.752865</td>\n",
       "      <td>-24.089847</td>\n",
       "      <td>4.201270</td>\n",
       "      <td>138.129834</td>\n",
       "      <td>3.393774</td>\n",
       "    </tr>\n",
       "    <tr>\n",
       "      <th>1</th>\n",
       "      <td>5.5277</td>\n",
       "      <td>9.13020</td>\n",
       "      <td>-2.6321</td>\n",
       "      <td>3.291065</td>\n",
       "      <td>-8.662412</td>\n",
       "      <td>6.927950</td>\n",
       "      <td>10.831108</td>\n",
       "      <td>2.698951</td>\n",
       "    </tr>\n",
       "    <tr>\n",
       "      <th>2</th>\n",
       "      <td>8.5186</td>\n",
       "      <td>13.66200</td>\n",
       "      <td>0.3588</td>\n",
       "      <td>7.822865</td>\n",
       "      <td>2.806844</td>\n",
       "      <td>0.128737</td>\n",
       "      <td>61.197216</td>\n",
       "      <td>6.267196</td>\n",
       "    </tr>\n",
       "    <tr>\n",
       "      <th>3</th>\n",
       "      <td>7.0032</td>\n",
       "      <td>11.85400</td>\n",
       "      <td>-1.1566</td>\n",
       "      <td>6.014865</td>\n",
       "      <td>-6.956793</td>\n",
       "      <td>1.337724</td>\n",
       "      <td>36.178600</td>\n",
       "      <td>4.459272</td>\n",
       "    </tr>\n",
       "    <tr>\n",
       "      <th>4</th>\n",
       "      <td>5.8598</td>\n",
       "      <td>6.82330</td>\n",
       "      <td>-2.3000</td>\n",
       "      <td>0.984165</td>\n",
       "      <td>-2.263579</td>\n",
       "      <td>5.290000</td>\n",
       "      <td>0.968581</td>\n",
       "      <td>3.095158</td>\n",
       "    </tr>\n",
       "    <tr>\n",
       "      <th>...</th>\n",
       "      <td>...</td>\n",
       "      <td>...</td>\n",
       "      <td>...</td>\n",
       "      <td>...</td>\n",
       "      <td>...</td>\n",
       "      <td>...</td>\n",
       "      <td>...</td>\n",
       "      <td>...</td>\n",
       "    </tr>\n",
       "    <tr>\n",
       "      <th>92</th>\n",
       "      <td>5.8707</td>\n",
       "      <td>7.20290</td>\n",
       "      <td>-2.2891</td>\n",
       "      <td>1.363765</td>\n",
       "      <td>-3.121794</td>\n",
       "      <td>5.239979</td>\n",
       "      <td>1.859855</td>\n",
       "      <td>3.108162</td>\n",
       "    </tr>\n",
       "    <tr>\n",
       "      <th>93</th>\n",
       "      <td>5.3054</td>\n",
       "      <td>1.98690</td>\n",
       "      <td>-2.8544</td>\n",
       "      <td>-3.852235</td>\n",
       "      <td>10.995820</td>\n",
       "      <td>8.147599</td>\n",
       "      <td>14.839715</td>\n",
       "      <td>2.433740</td>\n",
       "    </tr>\n",
       "    <tr>\n",
       "      <th>94</th>\n",
       "      <td>8.2934</td>\n",
       "      <td>0.14454</td>\n",
       "      <td>0.1336</td>\n",
       "      <td>-5.694595</td>\n",
       "      <td>-0.760798</td>\n",
       "      <td>0.017849</td>\n",
       "      <td>32.428413</td>\n",
       "      <td>5.998524</td>\n",
       "    </tr>\n",
       "    <tr>\n",
       "      <th>95</th>\n",
       "      <td>13.3940</td>\n",
       "      <td>9.05510</td>\n",
       "      <td>5.2342</td>\n",
       "      <td>3.215965</td>\n",
       "      <td>16.833004</td>\n",
       "      <td>27.396850</td>\n",
       "      <td>10.342431</td>\n",
       "      <td>12.083712</td>\n",
       "    </tr>\n",
       "    <tr>\n",
       "      <th>96</th>\n",
       "      <td>5.4369</td>\n",
       "      <td>0.61705</td>\n",
       "      <td>-2.7229</td>\n",
       "      <td>-5.222085</td>\n",
       "      <td>14.219215</td>\n",
       "      <td>7.414184</td>\n",
       "      <td>27.270172</td>\n",
       "      <td>2.590624</td>\n",
       "    </tr>\n",
       "  </tbody>\n",
       "</table>\n",
       "<p>97 rows × 8 columns</p>\n",
       "</div>"
      ],
      "text/plain": [
       "     xlabel    ylabel       x          y        x*y        x^2         y^2  \\\n",
       "0    6.1101  17.59200 -2.0497  11.752865 -24.089847   4.201270  138.129834   \n",
       "1    5.5277   9.13020 -2.6321   3.291065  -8.662412   6.927950   10.831108   \n",
       "2    8.5186  13.66200  0.3588   7.822865   2.806844   0.128737   61.197216   \n",
       "3    7.0032  11.85400 -1.1566   6.014865  -6.956793   1.337724   36.178600   \n",
       "4    5.8598   6.82330 -2.3000   0.984165  -2.263579   5.290000    0.968581   \n",
       "..      ...       ...     ...        ...        ...        ...         ...   \n",
       "92   5.8707   7.20290 -2.2891   1.363765  -3.121794   5.239979    1.859855   \n",
       "93   5.3054   1.98690 -2.8544  -3.852235  10.995820   8.147599   14.839715   \n",
       "94   8.2934   0.14454  0.1336  -5.694595  -0.760798   0.017849   32.428413   \n",
       "95  13.3940   9.05510  5.2342   3.215965  16.833004  27.396850   10.342431   \n",
       "96   5.4369   0.61705 -2.7229  -5.222085  14.219215   7.414184   27.270172   \n",
       "\n",
       "       y_pred  \n",
       "0    3.393774  \n",
       "1    2.698951  \n",
       "2    6.267196  \n",
       "3    4.459272  \n",
       "4    3.095158  \n",
       "..        ...  \n",
       "92   3.108162  \n",
       "93   2.433740  \n",
       "94   5.998524  \n",
       "95  12.083712  \n",
       "96   2.590624  \n",
       "\n",
       "[97 rows x 8 columns]"
      ]
     },
     "execution_count": 28,
     "metadata": {},
     "output_type": "execute_result"
    }
   ],
   "source": [
    "df[\"y_pred\"]=m*df[\"xlabel\"]+c\n",
    "df"
   ]
  },
  {
   "cell_type": "code",
   "execution_count": 30,
   "id": "9c3655d1",
   "metadata": {},
   "outputs": [
    {
     "data": {
      "text/plain": [
       "[<matplotlib.lines.Line2D at 0x7f6bc8bfb3d0>]"
      ]
     },
     "execution_count": 30,
     "metadata": {},
     "output_type": "execute_result"
    },
    {
     "data": {
      "image/png": "[encoded data removed]",
      "text/plain": [
       "<Figure size 432x288 with 1 Axes>"
      ]
     },
     "metadata": {
      "needs_background": "light"
     },
     "output_type": "display_data"
    }
   ],
   "source": [
    "plt.scatter(df[\"xlabel\"],df[\"ylabel\"])\n",
    "plt.plot(df[\"xlabel\"],df[\"y_pred\"])"
   ]
  },
  {
   "cell_type": "code",
   "execution_count": 31,
   "id": "5924e2d8",
   "metadata": {},
   "outputs": [
    {
     "data": {
      "text/plain": [
       "2046.3146047180403"
      ]
     },
     "execution_count": 31,
     "metadata": {},
     "output_type": "execute_result"
    }
   ],
   "source": [
    "ssr=sum((df[\"y_pred\"]-(df[\"ylabel\"].mean()))**2)\n",
    "ssr"
   ]
  },
  {
   "cell_type": "code",
   "execution_count": 32,
   "id": "e9ca810e",
   "metadata": {},
   "outputs": [
    {
     "data": {
      "text/plain": [
       "868.5324469391843"
      ]
     },
     "execution_count": 32,
     "metadata": {},
     "output_type": "execute_result"
    }
   ],
   "source": [
    "sse=sum((df[\"ylabel\"]-df[\"y_pred\"])**2)\n",
    "sse"
   ]
  },
  {
   "cell_type": "code",
   "execution_count": 33,
   "id": "3cad7286",
   "metadata": {},
   "outputs": [
    {
     "data": {
      "text/plain": [
       "2914.8470516572247"
      ]
     },
     "execution_count": 33,
     "metadata": {},
     "output_type": "execute_result"
    }
   ],
   "source": [
    "sst=sse+ssr\n",
    "sst"
   ]
  },
  {
   "cell_type": "code",
   "execution_count": 34,
   "id": "0a75ab6c",
   "metadata": {},
   "outputs": [
    {
     "data": {
      "text/plain": [
       "9.047212988949836"
      ]
     },
     "execution_count": 34,
     "metadata": {},
     "output_type": "execute_result"
    }
   ],
   "source": [
    "cost=sse/96\n",
    "cost"
   ]
  },
  {
   "cell_type": "code",
   "execution_count": 35,
   "id": "8ddaa599",
   "metadata": {},
   "outputs": [
    {
     "data": {
      "text/plain": [
       "0.7020315537841398"
      ]
     },
     "execution_count": 35,
     "metadata": {},
     "output_type": "execute_result"
    }
   ],
   "source": [
    "correlation**2  #R^2"
   ]
  },
  {
   "cell_type": "code",
   "execution_count": null,
   "id": "df7f2ef7",
   "metadata": {},
   "outputs": [],
   "source": []
  }
 ],
 "metadata": {
  "kernelspec": {
   "display_name": "Python 3 (ipykernel)",
   "language": "python",
   "name": "python3"
  },
  "language_info": {
   "codemirror_mode": {
    "name": "ipython",
    "version": 3
   },
   "file_extension": ".py",
   "mimetype": "text/x-python",
   "name": "python",
   "nbconvert_exporter": "python",
   "pygments_lexer": "ipython3",
   "version": "3.8.10"
  }
 },
 "nbformat": 4,
 "nbformat_minor": 5
}
